{
  "cells": [
    {
      "metadata": {
        "trusted": true
      },
      "cell_type": "code",
      "source": "!pip install wkhtmltopdf",
      "execution_count": 57,
      "outputs": [
        {
          "output_type": "stream",
          "text": "Requirement already satisfied: wkhtmltopdf in /home/nbuser/anaconda3_501/lib/python3.6/site-packages (0.2)\r\n",
          "name": "stdout"
        }
      ]
    },
    {
      "metadata": {
        "trusted": true
      },
      "cell_type": "code",
      "source": "!pip install weasyprint",
      "execution_count": 58,
      "outputs": [
        {
          "output_type": "stream",
          "text": "Requirement already satisfied: weasyprint in /home/nbuser/anaconda3_501/lib/python3.6/site-packages (0.42.3)\nRequirement already satisfied: html5lib>=0.999999999 in /home/nbuser/anaconda3_501/lib/python3.6/site-packages (from weasyprint) (0.999999999)\nRequirement already satisfied: CairoSVG>=1.0.20; python_version >= \"3.0\" in /home/nbuser/anaconda3_501/lib/python3.6/site-packages (from weasyprint) (2.1.3)\nRequirement already satisfied: tinycss2>=0.5 in /home/nbuser/anaconda3_501/lib/python3.6/site-packages (from weasyprint) (0.6.1)\nRequirement already satisfied: cssselect2>=0.1 in /home/nbuser/anaconda3_501/lib/python3.6/site-packages (from weasyprint) (0.2.1)\nRequirement already satisfied: cairocffi>=0.5 in /home/nbuser/anaconda3_501/lib/python3.6/site-packages (from weasyprint) (0.9.0)\nRequirement already satisfied: pdfrw>=0.4 in /home/nbuser/anaconda3_501/lib/python3.6/site-packages (from weasyprint) (0.4)\nRequirement already satisfied: Pyphen>=0.8 in /home/nbuser/anaconda3_501/lib/python3.6/site-packages (from weasyprint) (0.9.4)\nRequirement already satisfied: cffi>=0.6 in /home/nbuser/anaconda3_501/lib/python3.6/site-packages (from weasyprint) (1.10.0)\nRequirement already satisfied: six in /home/nbuser/anaconda3_501/lib/python3.6/site-packages (from html5lib>=0.999999999->weasyprint) (1.11.0)\nRequirement already satisfied: webencodings in /home/nbuser/anaconda3_501/lib/python3.6/site-packages (from html5lib>=0.999999999->weasyprint) (0.5.1)\nRequirement already satisfied: setuptools>=18.5 in /home/nbuser/anaconda3_501/lib/python3.6/site-packages (from html5lib>=0.999999999->weasyprint) (40.0.0)\nRequirement already satisfied: pillow in /home/nbuser/anaconda3_501/lib/python3.6/site-packages (from CairoSVG>=1.0.20; python_version >= \"3.0\"->weasyprint) (4.3.0)\nRequirement already satisfied: defusedxml in /home/nbuser/anaconda3_501/lib/python3.6/site-packages (from CairoSVG>=1.0.20; python_version >= \"3.0\"->weasyprint) (0.5.0)\nRequirement already satisfied: pycparser in /home/nbuser/anaconda3_501/lib/python3.6/site-packages (from cffi>=0.6->weasyprint) (2.18)\nRequirement already satisfied: olefile in /home/nbuser/anaconda3_501/lib/python3.6/site-packages (from pillow->CairoSVG>=1.0.20; python_version >= \"3.0\"->weasyprint) (0.44)\n",
          "name": "stdout"
        }
      ]
    },
    {
      "metadata": {
        "trusted": true
      },
      "cell_type": "code",
      "source": "!pip install pdfkit",
      "execution_count": 59,
      "outputs": [
        {
          "output_type": "stream",
          "text": "Requirement already satisfied: pdfkit in /home/nbuser/anaconda3_501/lib/python3.6/site-packages (0.6.1)\r\n",
          "name": "stdout"
        }
      ]
    },
    {
      "metadata": {
        "trusted": true
      },
      "cell_type": "code",
      "source": "import pdfkit as pdf\nimport pandas as pd",
      "execution_count": 50,
      "outputs": []
    },
    {
      "metadata": {
        "trusted": true
      },
      "cell_type": "code",
      "source": "xl = pd.ExcelFile(\"data/exceldata.xlsx\")\nsheetname = xl.sheet_names\nsheetname",
      "execution_count": 42,
      "outputs": [
        {
          "output_type": "execute_result",
          "execution_count": 42,
          "data": {
            "text/plain": "['Sheet1']"
          },
          "metadata": {}
        }
      ]
    },
    {
      "metadata": {
        "trusted": true
      },
      "cell_type": "code",
      "source": "df = xl.parse(sheetname)\ndf",
      "execution_count": 43,
      "outputs": [
        {
          "output_type": "execute_result",
          "execution_count": 43,
          "data": {
            "text/plain": "OrderedDict([('Sheet1',      Transactions  Count  Total\n              0          checks     45   1345\n              1    ACH deposits     78   2000\n              2  wire transfers     23   1900)])"
          },
          "metadata": {}
        }
      ]
    },
    {
      "metadata": {
        "trusted": true
      },
      "cell_type": "code",
      "source": "df =pd.read_excel(open('data/exceldata.xlsx','rb'), sheetname='Sheet1')\ndf",
      "execution_count": 44,
      "outputs": [
        {
          "output_type": "execute_result",
          "execution_count": 44,
          "data": {
            "text/html": "<div>\n<style>\n    .dataframe thead tr:only-child th {\n        text-align: right;\n    }\n\n    .dataframe thead th {\n        text-align: left;\n    }\n\n    .dataframe tbody tr th {\n        vertical-align: top;\n    }\n</style>\n<table border=\"1\" class=\"dataframe\">\n  <thead>\n    <tr style=\"text-align: right;\">\n      <th></th>\n      <th>Transactions</th>\n      <th>Count</th>\n      <th>Total</th>\n    </tr>\n  </thead>\n  <tbody>\n    <tr>\n      <th>0</th>\n      <td>checks</td>\n      <td>45</td>\n      <td>1345</td>\n    </tr>\n    <tr>\n      <th>1</th>\n      <td>ACH deposits</td>\n      <td>78</td>\n      <td>2000</td>\n    </tr>\n    <tr>\n      <th>2</th>\n      <td>wire transfers</td>\n      <td>23</td>\n      <td>1900</td>\n    </tr>\n  </tbody>\n</table>\n</div>",
            "text/plain": "     Transactions  Count  Total\n0          checks     45   1345\n1    ACH deposits     78   2000\n2  wire transfers     23   1900"
          },
          "metadata": {}
        }
      ]
    },
    {
      "metadata": {
        "trusted": true
      },
      "cell_type": "code",
      "source": "df['comments'] = df['Count'].astype(str)+ ' '+ df['Transactions'] + ' Totaling to $' + df['Total'].astype(str)",
      "execution_count": 45,
      "outputs": []
    },
    {
      "metadata": {
        "trusted": true
      },
      "cell_type": "code",
      "source": "df",
      "execution_count": 46,
      "outputs": [
        {
          "output_type": "execute_result",
          "execution_count": 46,
          "data": {
            "text/html": "<div>\n<style>\n    .dataframe thead tr:only-child th {\n        text-align: right;\n    }\n\n    .dataframe thead th {\n        text-align: left;\n    }\n\n    .dataframe tbody tr th {\n        vertical-align: top;\n    }\n</style>\n<table border=\"1\" class=\"dataframe\">\n  <thead>\n    <tr style=\"text-align: right;\">\n      <th></th>\n      <th>Transactions</th>\n      <th>Count</th>\n      <th>Total</th>\n      <th>comments</th>\n    </tr>\n  </thead>\n  <tbody>\n    <tr>\n      <th>0</th>\n      <td>checks</td>\n      <td>45</td>\n      <td>1345</td>\n      <td>45 checks Totaling to $1345</td>\n    </tr>\n    <tr>\n      <th>1</th>\n      <td>ACH deposits</td>\n      <td>78</td>\n      <td>2000</td>\n      <td>78 ACH deposits Totaling to $2000</td>\n    </tr>\n    <tr>\n      <th>2</th>\n      <td>wire transfers</td>\n      <td>23</td>\n      <td>1900</td>\n      <td>23 wire transfers Totaling to $1900</td>\n    </tr>\n  </tbody>\n</table>\n</div>",
            "text/plain": "     Transactions  Count  Total                             comments\n0          checks     45   1345          45 checks Totaling to $1345\n1    ACH deposits     78   2000    78 ACH deposits Totaling to $2000\n2  wire transfers     23   1900  23 wire transfers Totaling to $1900"
          },
          "metadata": {}
        }
      ]
    },
    {
      "metadata": {
        "trusted": true
      },
      "cell_type": "code",
      "source": "from weasyprint import HTML\n#HTML(string=html_out).write_pdf(\"report.pdf\")",
      "execution_count": 47,
      "outputs": []
    },
    {
      "metadata": {
        "trusted": true
      },
      "cell_type": "code",
      "source": "# df.to_render(\"file.pdf\", format = \"pdf\")",
      "execution_count": 48,
      "outputs": []
    },
    {
      "metadata": {
        "trusted": true
      },
      "cell_type": "code",
      "source": "df.to_html()",
      "execution_count": 52,
      "outputs": [
        {
          "output_type": "execute_result",
          "execution_count": 52,
          "data": {
            "text/plain": "'<table border=\"1\" class=\"dataframe\">\\n  <thead>\\n    <tr style=\"text-align: right;\">\\n      <th></th>\\n      <th>Transactions</th>\\n      <th>Count</th>\\n      <th>Total</th>\\n      <th>comments</th>\\n    </tr>\\n  </thead>\\n  <tbody>\\n    <tr>\\n      <th>0</th>\\n      <td>checks</td>\\n      <td>45</td>\\n      <td>1345</td>\\n      <td>45 checks Totaling to $1345</td>\\n    </tr>\\n    <tr>\\n      <th>1</th>\\n      <td>ACH deposits</td>\\n      <td>78</td>\\n      <td>2000</td>\\n      <td>78 ACH deposits Totaling to $2000</td>\\n    </tr>\\n    <tr>\\n      <th>2</th>\\n      <td>wire transfers</td>\\n      <td>23</td>\\n      <td>1900</td>\\n      <td>23 wire transfers Totaling to $1900</td>\\n    </tr>\\n  </tbody>\\n</table>'"
          },
          "metadata": {}
        }
      ]
    },
    {
      "metadata": {
        "trusted": true
      },
      "cell_type": "code",
      "source": "df.to_html(r'exported.html')\n",
      "execution_count": 53,
      "outputs": []
    },
    {
      "metadata": {
        "trusted": true
      },
      "cell_type": "code",
      "source": "nazivFajla='pdfPrintOut.pdf'\n",
      "execution_count": 54,
      "outputs": []
    },
    {
      "metadata": {
        "trusted": true
      },
      "cell_type": "code",
      "source": "# pdf.from_file('exported.html', nazivFajla)",
      "execution_count": 55,
      "outputs": []
    },
    {
      "metadata": {
        "trusted": true
      },
      "cell_type": "code",
      "source": "# path_wkthmltopdf = r'C:\\Python27\\wkhtmltopdf\\bin\\wkhtmltopdf.exe'\n# config = pdfkit.configuration(wkhtmltopdf=path_wkthmltopdf)\n# pdfkit.from_url(\"http://google.com\", \"out.pdf\", configuration=config)",
      "execution_count": 56,
      "outputs": []
    },
    {
      "metadata": {
        "trusted": true
      },
      "cell_type": "code",
      "source": "from weasyprint import HTML\nHTML(string=df.to_html()).write_pdf(\"report2.pdf\")",
      "execution_count": 60,
      "outputs": []
    },
    {
      "metadata": {
        "trusted": true
      },
      "cell_type": "code",
      "source": "# read this page: http://pbpython.com/pdf-reports.html",
      "execution_count": null,
      "outputs": []
    }
  ],
  "metadata": {
    "kernelspec": {
      "name": "python36",
      "display_name": "Python 3.6",
      "language": "python"
    },
    "language_info": {
      "mimetype": "text/x-python",
      "nbconvert_exporter": "python",
      "name": "python",
      "pygments_lexer": "ipython3",
      "version": "3.6.3",
      "file_extension": ".py",
      "codemirror_mode": {
        "version": 3,
        "name": "ipython"
      }
    }
  },
  "nbformat": 4,
  "nbformat_minor": 2
}